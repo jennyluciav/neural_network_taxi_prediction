{
 "cells": [
  {
   "cell_type": "code",
   "execution_count": 4,
   "metadata": {
    "ExecuteTime": {
     "end_time": "2019-07-08T06:42:03.424437Z",
     "start_time": "2019-07-08T06:42:01.713251Z"
    }
   },
   "outputs": [],
   "source": [
    "import pandas as pd\n",
    "import numpy as np\n",
    "\n",
    "from sklearn.model_selection import KFold\n",
    "from sklearn.neural_network import MLPRegressor\n",
    "from sklearn.model_selection import RandomizedSearchCV\n",
    "from sklearn.metrics import make_scorer\n",
    "from sklearn import preprocessing\n",
    "\n",
    "from math import radians, cos, sin, asin, sqrt\n",
    "\n",
    "from datetime import datetime\n",
    "\n",
    "import warnings\n",
    "warnings.simplefilter(action='ignore', category=FutureWarning)"
   ]
  },
  {
   "cell_type": "code",
   "execution_count": 5,
   "metadata": {
    "ExecuteTime": {
     "end_time": "2019-07-08T06:42:06.783536Z",
     "start_time": "2019-07-08T06:42:06.779576Z"
    }
   },
   "outputs": [],
   "source": [
    "pd.options.display.float_format = \"{:.18f}\".format"
   ]
  },
  {
   "cell_type": "code",
   "execution_count": 7,
   "metadata": {
    "ExecuteTime": {
     "end_time": "2019-07-08T06:42:29.829576Z",
     "start_time": "2019-07-08T06:42:13.895563Z"
    }
   },
   "outputs": [
    {
     "data": {
      "text/html": [
       "<div>\n",
       "<style scoped>\n",
       "    .dataframe tbody tr th:only-of-type {\n",
       "        vertical-align: middle;\n",
       "    }\n",
       "\n",
       "    .dataframe tbody tr th {\n",
       "        vertical-align: top;\n",
       "    }\n",
       "\n",
       "    .dataframe thead th {\n",
       "        text-align: right;\n",
       "    }\n",
       "</style>\n",
       "<table border=\"1\" class=\"dataframe\">\n",
       "  <thead>\n",
       "    <tr style=\"text-align: right;\">\n",
       "      <th></th>\n",
       "      <th>id</th>\n",
       "      <th>vendor_id</th>\n",
       "      <th>pickup_datetime</th>\n",
       "      <th>dropoff_datetime</th>\n",
       "      <th>passenger_count</th>\n",
       "      <th>pickup_longitude</th>\n",
       "      <th>pickup_latitude</th>\n",
       "      <th>dropoff_longitude</th>\n",
       "      <th>dropoff_latitude</th>\n",
       "      <th>store_and_fwd_flag</th>\n",
       "      <th>trip_duration</th>\n",
       "    </tr>\n",
       "  </thead>\n",
       "  <tbody>\n",
       "    <tr>\n",
       "      <th>0</th>\n",
       "      <td>id2875421</td>\n",
       "      <td>2</td>\n",
       "      <td>2016-03-14 17:24:55</td>\n",
       "      <td>2016-03-14 17:32:30</td>\n",
       "      <td>1</td>\n",
       "      <td>-73.982154846191392039</td>\n",
       "      <td>40.767936706542968750</td>\n",
       "      <td>-73.964630126953125000</td>\n",
       "      <td>40.765602111816406250</td>\n",
       "      <td>N</td>\n",
       "      <td>455</td>\n",
       "    </tr>\n",
       "    <tr>\n",
       "      <th>1</th>\n",
       "      <td>id2377394</td>\n",
       "      <td>1</td>\n",
       "      <td>2016-06-12 00:43:35</td>\n",
       "      <td>2016-06-12 00:54:38</td>\n",
       "      <td>1</td>\n",
       "      <td>-73.980415344238267039</td>\n",
       "      <td>40.738563537597656250</td>\n",
       "      <td>-73.999481201171875000</td>\n",
       "      <td>40.731151580810546875</td>\n",
       "      <td>N</td>\n",
       "      <td>663</td>\n",
       "    </tr>\n",
       "    <tr>\n",
       "      <th>2</th>\n",
       "      <td>id3858529</td>\n",
       "      <td>2</td>\n",
       "      <td>2016-01-19 11:35:24</td>\n",
       "      <td>2016-01-19 12:10:48</td>\n",
       "      <td>1</td>\n",
       "      <td>-73.979026794433579539</td>\n",
       "      <td>40.763938903808593750</td>\n",
       "      <td>-74.005332946777343750</td>\n",
       "      <td>40.710086822509772730</td>\n",
       "      <td>N</td>\n",
       "      <td>2124</td>\n",
       "    </tr>\n",
       "    <tr>\n",
       "      <th>3</th>\n",
       "      <td>id3504673</td>\n",
       "      <td>2</td>\n",
       "      <td>2016-04-06 19:32:31</td>\n",
       "      <td>2016-04-06 19:39:40</td>\n",
       "      <td>1</td>\n",
       "      <td>-74.010040283203125000</td>\n",
       "      <td>40.719970703125000000</td>\n",
       "      <td>-74.012268066406250000</td>\n",
       "      <td>40.706718444824218750</td>\n",
       "      <td>N</td>\n",
       "      <td>429</td>\n",
       "    </tr>\n",
       "    <tr>\n",
       "      <th>4</th>\n",
       "      <td>id2181028</td>\n",
       "      <td>2</td>\n",
       "      <td>2016-03-26 13:30:55</td>\n",
       "      <td>2016-03-26 13:38:10</td>\n",
       "      <td>1</td>\n",
       "      <td>-73.973052978515625000</td>\n",
       "      <td>40.793209075927727270</td>\n",
       "      <td>-73.972923278808593750</td>\n",
       "      <td>40.782520294189453125</td>\n",
       "      <td>N</td>\n",
       "      <td>435</td>\n",
       "    </tr>\n",
       "  </tbody>\n",
       "</table>\n",
       "</div>"
      ],
      "text/plain": [
       "          id  vendor_id      pickup_datetime     dropoff_datetime  \\\n",
       "0  id2875421          2  2016-03-14 17:24:55  2016-03-14 17:32:30   \n",
       "1  id2377394          1  2016-06-12 00:43:35  2016-06-12 00:54:38   \n",
       "2  id3858529          2  2016-01-19 11:35:24  2016-01-19 12:10:48   \n",
       "3  id3504673          2  2016-04-06 19:32:31  2016-04-06 19:39:40   \n",
       "4  id2181028          2  2016-03-26 13:30:55  2016-03-26 13:38:10   \n",
       "\n",
       "   passenger_count       pickup_longitude       pickup_latitude  \\\n",
       "0                1 -73.982154846191392039 40.767936706542968750   \n",
       "1                1 -73.980415344238267039 40.738563537597656250   \n",
       "2                1 -73.979026794433579539 40.763938903808593750   \n",
       "3                1 -74.010040283203125000 40.719970703125000000   \n",
       "4                1 -73.973052978515625000 40.793209075927727270   \n",
       "\n",
       "       dropoff_longitude      dropoff_latitude store_and_fwd_flag  \\\n",
       "0 -73.964630126953125000 40.765602111816406250                  N   \n",
       "1 -73.999481201171875000 40.731151580810546875                  N   \n",
       "2 -74.005332946777343750 40.710086822509772730                  N   \n",
       "3 -74.012268066406250000 40.706718444824218750                  N   \n",
       "4 -73.972923278808593750 40.782520294189453125                  N   \n",
       "\n",
       "   trip_duration  \n",
       "0            455  \n",
       "1            663  \n",
       "2           2124  \n",
       "3            429  \n",
       "4            435  "
      ]
     },
     "execution_count": 7,
     "metadata": {},
     "output_type": "execute_result"
    }
   ],
   "source": [
    "df = pd.read_csv('train.csv')\n",
    "df.head()"
   ]
  },
  {
   "cell_type": "code",
   "execution_count": 8,
   "metadata": {
    "ExecuteTime": {
     "end_time": "2019-07-08T06:43:08.754426Z",
     "start_time": "2019-07-08T06:43:07.793693Z"
    }
   },
   "outputs": [],
   "source": [
    "# quitar valores vacíos\n",
    "df.dropna(inplace=True)"
   ]
  },
  {
   "cell_type": "code",
   "execution_count": 9,
   "metadata": {
    "ExecuteTime": {
     "end_time": "2019-07-08T06:43:09.509768Z",
     "start_time": "2019-07-08T06:43:08.758421Z"
    }
   },
   "outputs": [],
   "source": [
    "mean, std_deviation = np.mean(df['trip_duration']), np.std(df['trip_duration'])\n",
    "df = df[df['trip_duration'] <= mean + 2 * std_deviation]\n",
    "df = df[df['trip_duration'] >= mean - 2 * std_deviation]"
   ]
  },
  {
   "cell_type": "code",
   "execution_count": 10,
   "metadata": {
    "ExecuteTime": {
     "end_time": "2019-07-08T06:43:09.517808Z",
     "start_time": "2019-07-08T06:43:09.509768Z"
    }
   },
   "outputs": [],
   "source": [
    "# crear variables más cortas para las columnas con nombres largos\n",
    "plg, plt = 'pickup_longitude', 'pickup_latitude'\n",
    "dlg, dlt = 'dropoff_longitude', 'dropoff_latitude'\n",
    "pdt, ddt = 'pickup_datetime', 'dropoff_datetime'"
   ]
  },
  {
   "cell_type": "code",
   "execution_count": 11,
   "metadata": {
    "ExecuteTime": {
     "end_time": "2019-07-08T06:43:09.566381Z",
     "start_time": "2019-07-08T06:43:09.517808Z"
    }
   },
   "outputs": [],
   "source": [
    "# función para calcular la distancia desde la recogida hasta la llegada\n",
    "def haversine(lon1, lat1, lon2, lat2):\n",
    "    # convertir grados decimal a radianes \n",
    "    lon1, lat1, lon2, lat2 = map(radians, [lon1, lat1, lon2, lat2])\n",
    "    # formula haversine \n",
    "    dlon = lon2 - lon1 \n",
    "    dlat = lat2 - lat1 \n",
    "    a = sin(dlat/2)**2 + cos(lat1) * cos(lat2) * sin(dlon/2)**2\n",
    "    c = 2 * asin(sqrt(a)) \n",
    "    # radio de la tierra en kilometros es 6371\n",
    "    km = 6371* c\n",
    "    return km\n",
    "\n",
    "def euclidian_distance(x):\n",
    "    x1, y1 = np.float64(x[plg]), np.float64(x[plt])\n",
    "    x2, y2 = np.float64(x[dlg]), np.float64(x[dlt])    \n",
    "    return haversine(x1, y1, x2, y2)"
   ]
  },
  {
   "cell_type": "code",
   "execution_count": 12,
   "metadata": {
    "ExecuteTime": {
     "end_time": "2019-07-08T06:44:26.976806Z",
     "start_time": "2019-07-08T06:43:10.272564Z"
    }
   },
   "outputs": [
    {
     "data": {
      "text/html": [
       "<div>\n",
       "<style scoped>\n",
       "    .dataframe tbody tr th:only-of-type {\n",
       "        vertical-align: middle;\n",
       "    }\n",
       "\n",
       "    .dataframe tbody tr th {\n",
       "        vertical-align: top;\n",
       "    }\n",
       "\n",
       "    .dataframe thead th {\n",
       "        text-align: right;\n",
       "    }\n",
       "</style>\n",
       "<table border=\"1\" class=\"dataframe\">\n",
       "  <thead>\n",
       "    <tr style=\"text-align: right;\">\n",
       "      <th></th>\n",
       "      <th>id</th>\n",
       "      <th>vendor_id</th>\n",
       "      <th>pickup_datetime</th>\n",
       "      <th>dropoff_datetime</th>\n",
       "      <th>passenger_count</th>\n",
       "      <th>pickup_longitude</th>\n",
       "      <th>pickup_latitude</th>\n",
       "      <th>dropoff_longitude</th>\n",
       "      <th>dropoff_latitude</th>\n",
       "      <th>store_and_fwd_flag</th>\n",
       "      <th>trip_duration</th>\n",
       "      <th>distance</th>\n",
       "    </tr>\n",
       "  </thead>\n",
       "  <tbody>\n",
       "    <tr>\n",
       "      <th>0</th>\n",
       "      <td>id2875421</td>\n",
       "      <td>2</td>\n",
       "      <td>2016-03-14 17:24:55</td>\n",
       "      <td>2016-03-14 17:32:30</td>\n",
       "      <td>1</td>\n",
       "      <td>-73.982154846191392039</td>\n",
       "      <td>40.767936706542968750</td>\n",
       "      <td>-73.964630126953125000</td>\n",
       "      <td>40.765602111816406250</td>\n",
       "      <td>N</td>\n",
       "      <td>455</td>\n",
       "      <td>1.498520779645855727</td>\n",
       "    </tr>\n",
       "    <tr>\n",
       "      <th>1</th>\n",
       "      <td>id2377394</td>\n",
       "      <td>1</td>\n",
       "      <td>2016-06-12 00:43:35</td>\n",
       "      <td>2016-06-12 00:54:38</td>\n",
       "      <td>1</td>\n",
       "      <td>-73.980415344238267039</td>\n",
       "      <td>40.738563537597656250</td>\n",
       "      <td>-73.999481201171875000</td>\n",
       "      <td>40.731151580810546875</td>\n",
       "      <td>N</td>\n",
       "      <td>663</td>\n",
       "      <td>1.805507168796843587</td>\n",
       "    </tr>\n",
       "    <tr>\n",
       "      <th>2</th>\n",
       "      <td>id3858529</td>\n",
       "      <td>2</td>\n",
       "      <td>2016-01-19 11:35:24</td>\n",
       "      <td>2016-01-19 12:10:48</td>\n",
       "      <td>1</td>\n",
       "      <td>-73.979026794433579539</td>\n",
       "      <td>40.763938903808593750</td>\n",
       "      <td>-74.005332946777343750</td>\n",
       "      <td>40.710086822509772730</td>\n",
       "      <td>N</td>\n",
       "      <td>2124</td>\n",
       "      <td>6.385098495252204742</td>\n",
       "    </tr>\n",
       "    <tr>\n",
       "      <th>3</th>\n",
       "      <td>id3504673</td>\n",
       "      <td>2</td>\n",
       "      <td>2016-04-06 19:32:31</td>\n",
       "      <td>2016-04-06 19:39:40</td>\n",
       "      <td>1</td>\n",
       "      <td>-74.010040283203125000</td>\n",
       "      <td>40.719970703125000000</td>\n",
       "      <td>-74.012268066406250000</td>\n",
       "      <td>40.706718444824218750</td>\n",
       "      <td>N</td>\n",
       "      <td>429</td>\n",
       "      <td>1.485498422770938243</td>\n",
       "    </tr>\n",
       "    <tr>\n",
       "      <th>4</th>\n",
       "      <td>id2181028</td>\n",
       "      <td>2</td>\n",
       "      <td>2016-03-26 13:30:55</td>\n",
       "      <td>2016-03-26 13:38:10</td>\n",
       "      <td>1</td>\n",
       "      <td>-73.973052978515625000</td>\n",
       "      <td>40.793209075927727270</td>\n",
       "      <td>-73.972923278808593750</td>\n",
       "      <td>40.782520294189453125</td>\n",
       "      <td>N</td>\n",
       "      <td>435</td>\n",
       "      <td>1.188588459333177694</td>\n",
       "    </tr>\n",
       "  </tbody>\n",
       "</table>\n",
       "</div>"
      ],
      "text/plain": [
       "          id  vendor_id      pickup_datetime     dropoff_datetime  \\\n",
       "0  id2875421          2  2016-03-14 17:24:55  2016-03-14 17:32:30   \n",
       "1  id2377394          1  2016-06-12 00:43:35  2016-06-12 00:54:38   \n",
       "2  id3858529          2  2016-01-19 11:35:24  2016-01-19 12:10:48   \n",
       "3  id3504673          2  2016-04-06 19:32:31  2016-04-06 19:39:40   \n",
       "4  id2181028          2  2016-03-26 13:30:55  2016-03-26 13:38:10   \n",
       "\n",
       "   passenger_count       pickup_longitude       pickup_latitude  \\\n",
       "0                1 -73.982154846191392039 40.767936706542968750   \n",
       "1                1 -73.980415344238267039 40.738563537597656250   \n",
       "2                1 -73.979026794433579539 40.763938903808593750   \n",
       "3                1 -74.010040283203125000 40.719970703125000000   \n",
       "4                1 -73.973052978515625000 40.793209075927727270   \n",
       "\n",
       "       dropoff_longitude      dropoff_latitude store_and_fwd_flag  \\\n",
       "0 -73.964630126953125000 40.765602111816406250                  N   \n",
       "1 -73.999481201171875000 40.731151580810546875                  N   \n",
       "2 -74.005332946777343750 40.710086822509772730                  N   \n",
       "3 -74.012268066406250000 40.706718444824218750                  N   \n",
       "4 -73.972923278808593750 40.782520294189453125                  N   \n",
       "\n",
       "   trip_duration             distance  \n",
       "0            455 1.498520779645855727  \n",
       "1            663 1.805507168796843587  \n",
       "2           2124 6.385098495252204742  \n",
       "3            429 1.485498422770938243  \n",
       "4            435 1.188588459333177694  "
      ]
     },
     "execution_count": 12,
     "metadata": {},
     "output_type": "execute_result"
    }
   ],
   "source": [
    "# crear una columna con la distancia calculada desde la recogida hasta la llegada\n",
    "df['distance'] = df[[plg, plt, dlg, dlt]].apply(euclidian_distance, axis=1)\n",
    "df.head()"
   ]
  },
  {
   "cell_type": "code",
   "execution_count": 13,
   "metadata": {
    "ExecuteTime": {
     "end_time": "2019-07-08T06:45:18.004449Z",
     "start_time": "2019-07-08T06:44:26.980811Z"
    }
   },
   "outputs": [],
   "source": [
    "# convertir de string a datetime\n",
    "df[pdt] = df[pdt].apply(lambda x : datetime.strptime(x, \"%Y-%m-%d %H:%M:%S\"))\n",
    "df[ddt] = df[ddt].apply(lambda x : datetime.strptime(x, \"%Y-%m-%d %H:%M:%S\"))"
   ]
  },
  {
   "cell_type": "code",
   "execution_count": 14,
   "metadata": {
    "ExecuteTime": {
     "end_time": "2019-07-08T06:47:29.977898Z",
     "start_time": "2019-07-08T06:45:18.004449Z"
    }
   },
   "outputs": [
    {
     "data": {
      "text/html": [
       "<div>\n",
       "<style scoped>\n",
       "    .dataframe tbody tr th:only-of-type {\n",
       "        vertical-align: middle;\n",
       "    }\n",
       "\n",
       "    .dataframe tbody tr th {\n",
       "        vertical-align: top;\n",
       "    }\n",
       "\n",
       "    .dataframe thead th {\n",
       "        text-align: right;\n",
       "    }\n",
       "</style>\n",
       "<table border=\"1\" class=\"dataframe\">\n",
       "  <thead>\n",
       "    <tr style=\"text-align: right;\">\n",
       "      <th></th>\n",
       "      <th>id</th>\n",
       "      <th>vendor_id</th>\n",
       "      <th>pickup_datetime</th>\n",
       "      <th>dropoff_datetime</th>\n",
       "      <th>passenger_count</th>\n",
       "      <th>pickup_longitude</th>\n",
       "      <th>pickup_latitude</th>\n",
       "      <th>dropoff_longitude</th>\n",
       "      <th>dropoff_latitude</th>\n",
       "      <th>store_and_fwd_flag</th>\n",
       "      <th>trip_duration</th>\n",
       "      <th>distance</th>\n",
       "      <th>month</th>\n",
       "      <th>weekDay</th>\n",
       "      <th>dayMonth</th>\n",
       "      <th>pickupTimeMinutes</th>\n",
       "    </tr>\n",
       "  </thead>\n",
       "  <tbody>\n",
       "    <tr>\n",
       "      <th>0</th>\n",
       "      <td>id2875421</td>\n",
       "      <td>2</td>\n",
       "      <td>2016-03-14 17:24:55</td>\n",
       "      <td>2016-03-14 17:32:30</td>\n",
       "      <td>1</td>\n",
       "      <td>-73.982154846191392039</td>\n",
       "      <td>40.767936706542968750</td>\n",
       "      <td>-73.964630126953125000</td>\n",
       "      <td>40.765602111816406250</td>\n",
       "      <td>N</td>\n",
       "      <td>455</td>\n",
       "      <td>1.498520779645855727</td>\n",
       "      <td>3</td>\n",
       "      <td>0</td>\n",
       "      <td>14</td>\n",
       "      <td>1044.000000000000000000</td>\n",
       "    </tr>\n",
       "    <tr>\n",
       "      <th>1</th>\n",
       "      <td>id2377394</td>\n",
       "      <td>1</td>\n",
       "      <td>2016-06-12 00:43:35</td>\n",
       "      <td>2016-06-12 00:54:38</td>\n",
       "      <td>1</td>\n",
       "      <td>-73.980415344238267039</td>\n",
       "      <td>40.738563537597656250</td>\n",
       "      <td>-73.999481201171875000</td>\n",
       "      <td>40.731151580810546875</td>\n",
       "      <td>N</td>\n",
       "      <td>663</td>\n",
       "      <td>1.805507168796843587</td>\n",
       "      <td>6</td>\n",
       "      <td>6</td>\n",
       "      <td>12</td>\n",
       "      <td>43.000000000000000000</td>\n",
       "    </tr>\n",
       "    <tr>\n",
       "      <th>2</th>\n",
       "      <td>id3858529</td>\n",
       "      <td>2</td>\n",
       "      <td>2016-01-19 11:35:24</td>\n",
       "      <td>2016-01-19 12:10:48</td>\n",
       "      <td>1</td>\n",
       "      <td>-73.979026794433579539</td>\n",
       "      <td>40.763938903808593750</td>\n",
       "      <td>-74.005332946777343750</td>\n",
       "      <td>40.710086822509772730</td>\n",
       "      <td>N</td>\n",
       "      <td>2124</td>\n",
       "      <td>6.385098495252204742</td>\n",
       "      <td>1</td>\n",
       "      <td>1</td>\n",
       "      <td>19</td>\n",
       "      <td>695.000000000000000000</td>\n",
       "    </tr>\n",
       "    <tr>\n",
       "      <th>3</th>\n",
       "      <td>id3504673</td>\n",
       "      <td>2</td>\n",
       "      <td>2016-04-06 19:32:31</td>\n",
       "      <td>2016-04-06 19:39:40</td>\n",
       "      <td>1</td>\n",
       "      <td>-74.010040283203125000</td>\n",
       "      <td>40.719970703125000000</td>\n",
       "      <td>-74.012268066406250000</td>\n",
       "      <td>40.706718444824218750</td>\n",
       "      <td>N</td>\n",
       "      <td>429</td>\n",
       "      <td>1.485498422770938243</td>\n",
       "      <td>4</td>\n",
       "      <td>2</td>\n",
       "      <td>6</td>\n",
       "      <td>1172.000000000000000000</td>\n",
       "    </tr>\n",
       "    <tr>\n",
       "      <th>4</th>\n",
       "      <td>id2181028</td>\n",
       "      <td>2</td>\n",
       "      <td>2016-03-26 13:30:55</td>\n",
       "      <td>2016-03-26 13:38:10</td>\n",
       "      <td>1</td>\n",
       "      <td>-73.973052978515625000</td>\n",
       "      <td>40.793209075927727270</td>\n",
       "      <td>-73.972923278808593750</td>\n",
       "      <td>40.782520294189453125</td>\n",
       "      <td>N</td>\n",
       "      <td>435</td>\n",
       "      <td>1.188588459333177694</td>\n",
       "      <td>3</td>\n",
       "      <td>5</td>\n",
       "      <td>26</td>\n",
       "      <td>810.000000000000000000</td>\n",
       "    </tr>\n",
       "  </tbody>\n",
       "</table>\n",
       "</div>"
      ],
      "text/plain": [
       "          id  vendor_id     pickup_datetime    dropoff_datetime  \\\n",
       "0  id2875421          2 2016-03-14 17:24:55 2016-03-14 17:32:30   \n",
       "1  id2377394          1 2016-06-12 00:43:35 2016-06-12 00:54:38   \n",
       "2  id3858529          2 2016-01-19 11:35:24 2016-01-19 12:10:48   \n",
       "3  id3504673          2 2016-04-06 19:32:31 2016-04-06 19:39:40   \n",
       "4  id2181028          2 2016-03-26 13:30:55 2016-03-26 13:38:10   \n",
       "\n",
       "   passenger_count       pickup_longitude       pickup_latitude  \\\n",
       "0                1 -73.982154846191392039 40.767936706542968750   \n",
       "1                1 -73.980415344238267039 40.738563537597656250   \n",
       "2                1 -73.979026794433579539 40.763938903808593750   \n",
       "3                1 -74.010040283203125000 40.719970703125000000   \n",
       "4                1 -73.973052978515625000 40.793209075927727270   \n",
       "\n",
       "       dropoff_longitude      dropoff_latitude store_and_fwd_flag  \\\n",
       "0 -73.964630126953125000 40.765602111816406250                  N   \n",
       "1 -73.999481201171875000 40.731151580810546875                  N   \n",
       "2 -74.005332946777343750 40.710086822509772730                  N   \n",
       "3 -74.012268066406250000 40.706718444824218750                  N   \n",
       "4 -73.972923278808593750 40.782520294189453125                  N   \n",
       "\n",
       "   trip_duration             distance  month  weekDay  dayMonth  \\\n",
       "0            455 1.498520779645855727      3        0        14   \n",
       "1            663 1.805507168796843587      6        6        12   \n",
       "2           2124 6.385098495252204742      1        1        19   \n",
       "3            429 1.485498422770938243      4        2         6   \n",
       "4            435 1.188588459333177694      3        5        26   \n",
       "\n",
       "        pickupTimeMinutes  \n",
       "0 1044.000000000000000000  \n",
       "1   43.000000000000000000  \n",
       "2  695.000000000000000000  \n",
       "3 1172.000000000000000000  \n",
       "4  810.000000000000000000  "
      ]
     },
     "execution_count": 14,
     "metadata": {},
     "output_type": "execute_result"
    }
   ],
   "source": [
    "# crear columnas a partir de la hora de recogida\n",
    "df['month'] = df[pdt].apply(lambda x : x.month)\n",
    "df['weekDay'] = df[pdt].apply(lambda x : x.weekday())\n",
    "df['dayMonth'] = df[pdt].apply(lambda x : x.day)\n",
    "df['pickupTimeMinutes'] = df[pdt].apply(lambda x : x.hour * 60.0 + x.minute)\n",
    "df.head()"
   ]
  },
  {
   "cell_type": "code",
   "execution_count": 15,
   "metadata": {
    "ExecuteTime": {
     "end_time": "2019-07-08T06:47:32.625295Z",
     "start_time": "2019-07-08T06:47:29.992422Z"
    }
   },
   "outputs": [
    {
     "data": {
      "text/html": [
       "<div>\n",
       "<style scoped>\n",
       "    .dataframe tbody tr th:only-of-type {\n",
       "        vertical-align: middle;\n",
       "    }\n",
       "\n",
       "    .dataframe tbody tr th {\n",
       "        vertical-align: top;\n",
       "    }\n",
       "\n",
       "    .dataframe thead th {\n",
       "        text-align: right;\n",
       "    }\n",
       "</style>\n",
       "<table border=\"1\" class=\"dataframe\">\n",
       "  <thead>\n",
       "    <tr style=\"text-align: right;\">\n",
       "      <th></th>\n",
       "      <th>vendor_id</th>\n",
       "      <th>passenger_count</th>\n",
       "      <th>pickup_longitude</th>\n",
       "      <th>pickup_latitude</th>\n",
       "      <th>trip_duration</th>\n",
       "      <th>distance</th>\n",
       "      <th>month</th>\n",
       "      <th>weekDay</th>\n",
       "      <th>dayMonth</th>\n",
       "      <th>pickupTimeMinutes</th>\n",
       "    </tr>\n",
       "  </thead>\n",
       "  <tbody>\n",
       "    <tr>\n",
       "      <th>0</th>\n",
       "      <td>2</td>\n",
       "      <td>1</td>\n",
       "      <td>-73.982154846191392039</td>\n",
       "      <td>40.767936706542968750</td>\n",
       "      <td>455</td>\n",
       "      <td>1.498520779645855727</td>\n",
       "      <td>3</td>\n",
       "      <td>0</td>\n",
       "      <td>14</td>\n",
       "      <td>1044.000000000000000000</td>\n",
       "    </tr>\n",
       "    <tr>\n",
       "      <th>1</th>\n",
       "      <td>1</td>\n",
       "      <td>1</td>\n",
       "      <td>-73.980415344238267039</td>\n",
       "      <td>40.738563537597656250</td>\n",
       "      <td>663</td>\n",
       "      <td>1.805507168796843587</td>\n",
       "      <td>6</td>\n",
       "      <td>6</td>\n",
       "      <td>12</td>\n",
       "      <td>43.000000000000000000</td>\n",
       "    </tr>\n",
       "    <tr>\n",
       "      <th>2</th>\n",
       "      <td>2</td>\n",
       "      <td>1</td>\n",
       "      <td>-73.979026794433579539</td>\n",
       "      <td>40.763938903808593750</td>\n",
       "      <td>2124</td>\n",
       "      <td>6.385098495252204742</td>\n",
       "      <td>1</td>\n",
       "      <td>1</td>\n",
       "      <td>19</td>\n",
       "      <td>695.000000000000000000</td>\n",
       "    </tr>\n",
       "    <tr>\n",
       "      <th>3</th>\n",
       "      <td>2</td>\n",
       "      <td>1</td>\n",
       "      <td>-74.010040283203125000</td>\n",
       "      <td>40.719970703125000000</td>\n",
       "      <td>429</td>\n",
       "      <td>1.485498422770938243</td>\n",
       "      <td>4</td>\n",
       "      <td>2</td>\n",
       "      <td>6</td>\n",
       "      <td>1172.000000000000000000</td>\n",
       "    </tr>\n",
       "    <tr>\n",
       "      <th>4</th>\n",
       "      <td>2</td>\n",
       "      <td>1</td>\n",
       "      <td>-73.973052978515625000</td>\n",
       "      <td>40.793209075927727270</td>\n",
       "      <td>435</td>\n",
       "      <td>1.188588459333177694</td>\n",
       "      <td>3</td>\n",
       "      <td>5</td>\n",
       "      <td>26</td>\n",
       "      <td>810.000000000000000000</td>\n",
       "    </tr>\n",
       "  </tbody>\n",
       "</table>\n",
       "</div>"
      ],
      "text/plain": [
       "   vendor_id  passenger_count       pickup_longitude       pickup_latitude  \\\n",
       "0          2                1 -73.982154846191392039 40.767936706542968750   \n",
       "1          1                1 -73.980415344238267039 40.738563537597656250   \n",
       "2          2                1 -73.979026794433579539 40.763938903808593750   \n",
       "3          2                1 -74.010040283203125000 40.719970703125000000   \n",
       "4          2                1 -73.973052978515625000 40.793209075927727270   \n",
       "\n",
       "   trip_duration             distance  month  weekDay  dayMonth  \\\n",
       "0            455 1.498520779645855727      3        0        14   \n",
       "1            663 1.805507168796843587      6        6        12   \n",
       "2           2124 6.385098495252204742      1        1        19   \n",
       "3            429 1.485498422770938243      4        2         6   \n",
       "4            435 1.188588459333177694      3        5        26   \n",
       "\n",
       "        pickupTimeMinutes  \n",
       "0 1044.000000000000000000  \n",
       "1   43.000000000000000000  \n",
       "2  695.000000000000000000  \n",
       "3 1172.000000000000000000  \n",
       "4  810.000000000000000000  "
      ]
     },
     "execution_count": 15,
     "metadata": {},
     "output_type": "execute_result"
    }
   ],
   "source": [
    "# eliminar columnas innecesarias\n",
    "df.drop(['id', pdt, ddt, dlg, dlt, 'store_and_fwd_flag'], inplace=True, axis=1)\n",
    "df.head()"
   ]
  },
  {
   "cell_type": "code",
   "execution_count": 16,
   "metadata": {
    "ExecuteTime": {
     "end_time": "2019-07-08T06:47:33.429246Z",
     "start_time": "2019-07-08T06:47:32.637852Z"
    }
   },
   "outputs": [
    {
     "data": {
      "text/html": [
       "<div>\n",
       "<style scoped>\n",
       "    .dataframe tbody tr th:only-of-type {\n",
       "        vertical-align: middle;\n",
       "    }\n",
       "\n",
       "    .dataframe tbody tr th {\n",
       "        vertical-align: top;\n",
       "    }\n",
       "\n",
       "    .dataframe thead th {\n",
       "        text-align: right;\n",
       "    }\n",
       "</style>\n",
       "<table border=\"1\" class=\"dataframe\">\n",
       "  <thead>\n",
       "    <tr style=\"text-align: right;\">\n",
       "      <th></th>\n",
       "      <th>pickup_longitude</th>\n",
       "      <th>pickup_latitude</th>\n",
       "      <th>distance</th>\n",
       "      <th>month</th>\n",
       "      <th>dayMonth</th>\n",
       "      <th>weekDay</th>\n",
       "      <th>pickupTimeMinutes</th>\n",
       "      <th>passenger_count</th>\n",
       "      <th>vendor_id</th>\n",
       "      <th>trip_duration</th>\n",
       "    </tr>\n",
       "  </thead>\n",
       "  <tbody>\n",
       "    <tr>\n",
       "      <th>0</th>\n",
       "      <td>-73.982154846191392039</td>\n",
       "      <td>40.767936706542968750</td>\n",
       "      <td>1.498520779645855727</td>\n",
       "      <td>3</td>\n",
       "      <td>14</td>\n",
       "      <td>0</td>\n",
       "      <td>1044.000000000000000000</td>\n",
       "      <td>1</td>\n",
       "      <td>2</td>\n",
       "      <td>455</td>\n",
       "    </tr>\n",
       "    <tr>\n",
       "      <th>1</th>\n",
       "      <td>-73.980415344238267039</td>\n",
       "      <td>40.738563537597656250</td>\n",
       "      <td>1.805507168796843587</td>\n",
       "      <td>6</td>\n",
       "      <td>12</td>\n",
       "      <td>6</td>\n",
       "      <td>43.000000000000000000</td>\n",
       "      <td>1</td>\n",
       "      <td>1</td>\n",
       "      <td>663</td>\n",
       "    </tr>\n",
       "    <tr>\n",
       "      <th>2</th>\n",
       "      <td>-73.979026794433579539</td>\n",
       "      <td>40.763938903808593750</td>\n",
       "      <td>6.385098495252204742</td>\n",
       "      <td>1</td>\n",
       "      <td>19</td>\n",
       "      <td>1</td>\n",
       "      <td>695.000000000000000000</td>\n",
       "      <td>1</td>\n",
       "      <td>2</td>\n",
       "      <td>2124</td>\n",
       "    </tr>\n",
       "    <tr>\n",
       "      <th>3</th>\n",
       "      <td>-74.010040283203125000</td>\n",
       "      <td>40.719970703125000000</td>\n",
       "      <td>1.485498422770938243</td>\n",
       "      <td>4</td>\n",
       "      <td>6</td>\n",
       "      <td>2</td>\n",
       "      <td>1172.000000000000000000</td>\n",
       "      <td>1</td>\n",
       "      <td>2</td>\n",
       "      <td>429</td>\n",
       "    </tr>\n",
       "    <tr>\n",
       "      <th>4</th>\n",
       "      <td>-73.973052978515625000</td>\n",
       "      <td>40.793209075927727270</td>\n",
       "      <td>1.188588459333177694</td>\n",
       "      <td>3</td>\n",
       "      <td>26</td>\n",
       "      <td>5</td>\n",
       "      <td>810.000000000000000000</td>\n",
       "      <td>1</td>\n",
       "      <td>2</td>\n",
       "      <td>435</td>\n",
       "    </tr>\n",
       "  </tbody>\n",
       "</table>\n",
       "</div>"
      ],
      "text/plain": [
       "        pickup_longitude       pickup_latitude             distance  month  \\\n",
       "0 -73.982154846191392039 40.767936706542968750 1.498520779645855727      3   \n",
       "1 -73.980415344238267039 40.738563537597656250 1.805507168796843587      6   \n",
       "2 -73.979026794433579539 40.763938903808593750 6.385098495252204742      1   \n",
       "3 -74.010040283203125000 40.719970703125000000 1.485498422770938243      4   \n",
       "4 -73.973052978515625000 40.793209075927727270 1.188588459333177694      3   \n",
       "\n",
       "   dayMonth  weekDay       pickupTimeMinutes  passenger_count  vendor_id  \\\n",
       "0        14        0 1044.000000000000000000                1          2   \n",
       "1        12        6   43.000000000000000000                1          1   \n",
       "2        19        1  695.000000000000000000                1          2   \n",
       "3         6        2 1172.000000000000000000                1          2   \n",
       "4        26        5  810.000000000000000000                1          2   \n",
       "\n",
       "   trip_duration  \n",
       "0            455  \n",
       "1            663  \n",
       "2           2124  \n",
       "3            429  \n",
       "4            435  "
      ]
     },
     "execution_count": 16,
     "metadata": {},
     "output_type": "execute_result"
    }
   ],
   "source": [
    "# reordenar columnas\n",
    "df = df[[plg, plt, 'distance', 'month', 'dayMonth', 'weekDay', 'pickupTimeMinutes', 'passenger_count', 'vendor_id', 'trip_duration']]\n",
    "df.head()"
   ]
  },
  {
   "cell_type": "code",
   "execution_count": 17,
   "metadata": {
    "ExecuteTime": {
     "end_time": "2019-07-08T06:47:34.157829Z",
     "start_time": "2019-07-08T06:47:33.442831Z"
    }
   },
   "outputs": [],
   "source": [
    "# data de entrenamiento\n",
    "X, y = df.iloc[:, :-1], df.iloc[:, -1]"
   ]
  },
  {
   "cell_type": "code",
   "execution_count": 18,
   "metadata": {
    "ExecuteTime": {
     "end_time": "2019-07-08T06:47:39.054142Z",
     "start_time": "2019-07-08T06:47:34.173847Z"
    }
   },
   "outputs": [
    {
     "name": "stderr",
     "output_type": "stream",
     "text": [
      "D:\\users\\jvegag\\AppData\\Local\\Continuum\\anaconda3\\envs\\rimac\\lib\\site-packages\\sklearn\\preprocessing\\data.py:625: DataConversionWarning: Data with input dtype int64, float64 were all converted to float64 by StandardScaler.\n",
      "  return self.partial_fit(X, y)\n",
      "d:\\users\\jvegag\\AppData\\Roaming\\Python\\Python36\\site-packages\\ipykernel_launcher.py:3: DataConversionWarning: Data with input dtype int64, float64 were all converted to float64 by StandardScaler.\n",
      "  This is separate from the ipykernel package so we can avoid doing imports until\n"
     ]
    }
   ],
   "source": [
    "# normalizar input\n",
    "scaler = preprocessing.StandardScaler().fit(X)\n",
    "X = scaler.transform(X)"
   ]
  },
  {
   "cell_type": "code",
   "execution_count": 19,
   "metadata": {
    "ExecuteTime": {
     "end_time": "2019-07-08T06:47:39.092910Z",
     "start_time": "2019-07-08T06:47:39.070255Z"
    }
   },
   "outputs": [],
   "source": [
    "# Kfold para dividir la data de entrenamiento y la de test\n",
    "kf = KFold(n_splits=3, shuffle=True, random_state=4305)"
   ]
  },
  {
   "cell_type": "code",
   "execution_count": 20,
   "metadata": {
    "ExecuteTime": {
     "end_time": "2019-07-08T06:47:39.285018Z",
     "start_time": "2019-07-08T06:47:39.110836Z"
    }
   },
   "outputs": [],
   "source": [
    "# crear modelos de Perceptrón multicapa\n",
    "mlp = MLPRegressor()\n",
    "param_grid = {'hidden_layer_sizes': [(9, 9), (8, 8), (7, 7), (6, 6), (5, 5), (4, 4), (3, 3), (9, 9, 9), (8, 8, 8), (7, 7, 7), (6, 6, 6), (5, 5, 5), (4, 4, 4), (3, 3, 3)],\n",
    "              'activation': ['relu'],\n",
    "              'solver': ['adam'],\n",
    "              'nesterovs_momentum' : [True],\n",
    "              'momentum' : [0.9, 0.8, 0.7, 0.6, 0.5],                          \n",
    "              'learning_rate_init': [0.001, 0.01, 0.1, 0.3, 0.5, 1, 2],              \n",
    "              'learning_rate' : ['adaptive'],\n",
    "              'max_iter': [1000],\n",
    "              'early_stopping': [False],\n",
    "              'warm_start': [True]\n",
    "             }"
   ]
  },
  {
   "cell_type": "code",
   "execution_count": 21,
   "metadata": {
    "ExecuteTime": {
     "end_time": "2019-07-08T06:47:39.337445Z",
     "start_time": "2019-07-08T06:47:39.301023Z"
    }
   },
   "outputs": [],
   "source": [
    "# crear una función para calcular el error\n",
    "def rmsle(y_true, y_pred):\n",
    "    assert len(y_true) == len(y_pred)\n",
    "    return np.sqrt(np.mean(np.square(np.subtract(np.log1p(y_true), np.log1p(y_pred)))))"
   ]
  },
  {
   "cell_type": "code",
   "execution_count": 22,
   "metadata": {
    "ExecuteTime": {
     "end_time": "2019-07-08T06:47:39.421627Z",
     "start_time": "2019-07-08T06:47:39.365503Z"
    }
   },
   "outputs": [],
   "source": [
    "# crear SearchCV\n",
    "search_cv = RandomizedSearchCV(mlp, param_grid, scoring=make_scorer(rmsle, greater_is_better=False),\n",
    "                   cv=kf, verbose=3, pre_dispatch='2*n_jobs')"
   ]
  },
  {
   "cell_type": "code",
   "execution_count": null,
   "metadata": {
    "ExecuteTime": {
     "start_time": "2019-07-08T06:43:16.600Z"
    }
   },
   "outputs": [
    {
     "name": "stdout",
     "output_type": "stream",
     "text": [
      "Fitting 3 folds for each of 10 candidates, totalling 30 fits\n",
      "[CV] warm_start=True, solver=adam, nesterovs_momentum=True, momentum=0.5, max_iter=1000, learning_rate_init=2, learning_rate=adaptive, hidden_layer_sizes=(9, 9), early_stopping=False, activation=relu \n"
     ]
    },
    {
     "name": "stderr",
     "output_type": "stream",
     "text": [
      "[Parallel(n_jobs=1)]: Using backend SequentialBackend with 1 concurrent workers.\n"
     ]
    },
    {
     "name": "stdout",
     "output_type": "stream",
     "text": [
      "[CV]  warm_start=True, solver=adam, nesterovs_momentum=True, momentum=0.5, max_iter=1000, learning_rate_init=2, learning_rate=adaptive, hidden_layer_sizes=(9, 9), early_stopping=False, activation=relu, score=-0.8201186739977941, total=  22.1s\n",
      "[CV] warm_start=True, solver=adam, nesterovs_momentum=True, momentum=0.5, max_iter=1000, learning_rate_init=2, learning_rate=adaptive, hidden_layer_sizes=(9, 9), early_stopping=False, activation=relu \n"
     ]
    },
    {
     "name": "stderr",
     "output_type": "stream",
     "text": [
      "[Parallel(n_jobs=1)]: Done   1 out of   1 | elapsed:   22.4s remaining:    0.0s\n"
     ]
    },
    {
     "name": "stdout",
     "output_type": "stream",
     "text": [
      "[CV]  warm_start=True, solver=adam, nesterovs_momentum=True, momentum=0.5, max_iter=1000, learning_rate_init=2, learning_rate=adaptive, hidden_layer_sizes=(9, 9), early_stopping=False, activation=relu, score=-0.8242772938494425, total=  29.7s\n",
      "[CV] warm_start=True, solver=adam, nesterovs_momentum=True, momentum=0.5, max_iter=1000, learning_rate_init=2, learning_rate=adaptive, hidden_layer_sizes=(9, 9), early_stopping=False, activation=relu \n"
     ]
    },
    {
     "name": "stderr",
     "output_type": "stream",
     "text": [
      "[Parallel(n_jobs=1)]: Done   2 out of   2 | elapsed:   52.4s remaining:    0.0s\n"
     ]
    },
    {
     "name": "stdout",
     "output_type": "stream",
     "text": [
      "[CV]  warm_start=True, solver=adam, nesterovs_momentum=True, momentum=0.5, max_iter=1000, learning_rate_init=2, learning_rate=adaptive, hidden_layer_sizes=(9, 9), early_stopping=False, activation=relu, score=-0.8230644638794341, total=  44.3s\n",
      "[CV] warm_start=True, solver=adam, nesterovs_momentum=True, momentum=0.8, max_iter=1000, learning_rate_init=0.5, learning_rate=adaptive, hidden_layer_sizes=(7, 7), early_stopping=False, activation=relu \n",
      "[CV]  warm_start=True, solver=adam, nesterovs_momentum=True, momentum=0.8, max_iter=1000, learning_rate_init=0.5, learning_rate=adaptive, hidden_layer_sizes=(7, 7), early_stopping=False, activation=relu, score=-0.5049055811175778, total= 1.9min\n",
      "[CV] warm_start=True, solver=adam, nesterovs_momentum=True, momentum=0.8, max_iter=1000, learning_rate_init=0.5, learning_rate=adaptive, hidden_layer_sizes=(7, 7), early_stopping=False, activation=relu \n",
      "[CV]  warm_start=True, solver=adam, nesterovs_momentum=True, momentum=0.8, max_iter=1000, learning_rate_init=0.5, learning_rate=adaptive, hidden_layer_sizes=(7, 7), early_stopping=False, activation=relu, score=-0.5026078812649479, total= 2.8min\n",
      "[CV] warm_start=True, solver=adam, nesterovs_momentum=True, momentum=0.8, max_iter=1000, learning_rate_init=0.5, learning_rate=adaptive, hidden_layer_sizes=(7, 7), early_stopping=False, activation=relu \n",
      "[CV]  warm_start=True, solver=adam, nesterovs_momentum=True, momentum=0.8, max_iter=1000, learning_rate_init=0.5, learning_rate=adaptive, hidden_layer_sizes=(7, 7), early_stopping=False, activation=relu, score=-0.821203490290624, total=  27.1s\n",
      "[CV] warm_start=True, solver=adam, nesterovs_momentum=True, momentum=0.9, max_iter=1000, learning_rate_init=0.1, learning_rate=adaptive, hidden_layer_sizes=(8, 8), early_stopping=False, activation=relu \n",
      "[CV]  warm_start=True, solver=adam, nesterovs_momentum=True, momentum=0.9, max_iter=1000, learning_rate_init=0.1, learning_rate=adaptive, hidden_layer_sizes=(8, 8), early_stopping=False, activation=relu, score=-0.47527106495127325, total=  45.7s\n",
      "[CV] warm_start=True, solver=adam, nesterovs_momentum=True, momentum=0.9, max_iter=1000, learning_rate_init=0.1, learning_rate=adaptive, hidden_layer_sizes=(8, 8), early_stopping=False, activation=relu \n",
      "[CV]  warm_start=True, solver=adam, nesterovs_momentum=True, momentum=0.9, max_iter=1000, learning_rate_init=0.1, learning_rate=adaptive, hidden_layer_sizes=(8, 8), early_stopping=False, activation=relu, score=-0.4827935181952048, total=  51.2s\n",
      "[CV] warm_start=True, solver=adam, nesterovs_momentum=True, momentum=0.9, max_iter=1000, learning_rate_init=0.1, learning_rate=adaptive, hidden_layer_sizes=(8, 8), early_stopping=False, activation=relu \n",
      "[CV]  warm_start=True, solver=adam, nesterovs_momentum=True, momentum=0.9, max_iter=1000, learning_rate_init=0.1, learning_rate=adaptive, hidden_layer_sizes=(8, 8), early_stopping=False, activation=relu, score=-0.47711370027064, total= 1.7min\n",
      "[CV] warm_start=True, solver=adam, nesterovs_momentum=True, momentum=0.9, max_iter=1000, learning_rate_init=0.1, learning_rate=adaptive, hidden_layer_sizes=(4, 4), early_stopping=False, activation=relu \n",
      "[CV]  warm_start=True, solver=adam, nesterovs_momentum=True, momentum=0.9, max_iter=1000, learning_rate_init=0.1, learning_rate=adaptive, hidden_layer_sizes=(4, 4), early_stopping=False, activation=relu, score=-0.4880088107685893, total=  46.3s\n",
      "[CV] warm_start=True, solver=adam, nesterovs_momentum=True, momentum=0.9, max_iter=1000, learning_rate_init=0.1, learning_rate=adaptive, hidden_layer_sizes=(4, 4), early_stopping=False, activation=relu \n"
     ]
    },
    {
     "name": "stderr",
     "output_type": "stream",
     "text": [
      "d:\\users\\jvegag\\AppData\\Roaming\\Python\\Python36\\site-packages\\ipykernel_launcher.py:4: RuntimeWarning: invalid value encountered in log1p\n",
      "  after removing the cwd from sys.path.\n",
      "d:\\users\\jvegag\\AppData\\Roaming\\Python\\Python36\\site-packages\\ipykernel_launcher.py:4: RuntimeWarning: invalid value encountered in log1p\n",
      "  after removing the cwd from sys.path.\n"
     ]
    },
    {
     "name": "stdout",
     "output_type": "stream",
     "text": [
      "[CV]  warm_start=True, solver=adam, nesterovs_momentum=True, momentum=0.9, max_iter=1000, learning_rate_init=0.1, learning_rate=adaptive, hidden_layer_sizes=(4, 4), early_stopping=False, activation=relu, score=-0.4924720883131459, total=  28.1s\n",
      "[CV] warm_start=True, solver=adam, nesterovs_momentum=True, momentum=0.9, max_iter=1000, learning_rate_init=0.1, learning_rate=adaptive, hidden_layer_sizes=(4, 4), early_stopping=False, activation=relu \n",
      "[CV]  warm_start=True, solver=adam, nesterovs_momentum=True, momentum=0.9, max_iter=1000, learning_rate_init=0.1, learning_rate=adaptive, hidden_layer_sizes=(4, 4), early_stopping=False, activation=relu, score=-0.4956480468375843, total=  39.4s\n",
      "[CV] warm_start=True, solver=adam, nesterovs_momentum=True, momentum=0.6, max_iter=1000, learning_rate_init=0.1, learning_rate=adaptive, hidden_layer_sizes=(5, 5), early_stopping=False, activation=relu \n",
      "[CV]  warm_start=True, solver=adam, nesterovs_momentum=True, momentum=0.6, max_iter=1000, learning_rate_init=0.1, learning_rate=adaptive, hidden_layer_sizes=(5, 5), early_stopping=False, activation=relu, score=-0.4554680971662234, total=  57.2s\n",
      "[CV] warm_start=True, solver=adam, nesterovs_momentum=True, momentum=0.6, max_iter=1000, learning_rate_init=0.1, learning_rate=adaptive, hidden_layer_sizes=(5, 5), early_stopping=False, activation=relu \n",
      "[CV]  warm_start=True, solver=adam, nesterovs_momentum=True, momentum=0.6, max_iter=1000, learning_rate_init=0.1, learning_rate=adaptive, hidden_layer_sizes=(5, 5), early_stopping=False, activation=relu, score=-0.4715664211003723, total= 1.6min\n",
      "[CV] warm_start=True, solver=adam, nesterovs_momentum=True, momentum=0.6, max_iter=1000, learning_rate_init=0.1, learning_rate=adaptive, hidden_layer_sizes=(5, 5), early_stopping=False, activation=relu \n",
      "[CV]  warm_start=True, solver=adam, nesterovs_momentum=True, momentum=0.6, max_iter=1000, learning_rate_init=0.1, learning_rate=adaptive, hidden_layer_sizes=(5, 5), early_stopping=False, activation=relu, score=-0.48274994911400415, total=  26.9s\n",
      "[CV] warm_start=True, solver=adam, nesterovs_momentum=True, momentum=0.6, max_iter=1000, learning_rate_init=1, learning_rate=adaptive, hidden_layer_sizes=(3, 3, 3), early_stopping=False, activation=relu \n",
      "[CV]  warm_start=True, solver=adam, nesterovs_momentum=True, momentum=0.6, max_iter=1000, learning_rate_init=1, learning_rate=adaptive, hidden_layer_sizes=(3, 3, 3), early_stopping=False, activation=relu, score=-0.8193590866432723, total=  25.7s\n",
      "[CV] warm_start=True, solver=adam, nesterovs_momentum=True, momentum=0.6, max_iter=1000, learning_rate_init=1, learning_rate=adaptive, hidden_layer_sizes=(3, 3, 3), early_stopping=False, activation=relu \n",
      "[CV]  warm_start=True, solver=adam, nesterovs_momentum=True, momentum=0.6, max_iter=1000, learning_rate_init=1, learning_rate=adaptive, hidden_layer_sizes=(3, 3, 3), early_stopping=False, activation=relu, score=-0.8203911274360013, total=  27.0s\n",
      "[CV] warm_start=True, solver=adam, nesterovs_momentum=True, momentum=0.6, max_iter=1000, learning_rate_init=1, learning_rate=adaptive, hidden_layer_sizes=(3, 3, 3), early_stopping=False, activation=relu \n",
      "[CV]  warm_start=True, solver=adam, nesterovs_momentum=True, momentum=0.6, max_iter=1000, learning_rate_init=1, learning_rate=adaptive, hidden_layer_sizes=(3, 3, 3), early_stopping=False, activation=relu, score=-0.8218896010601016, total=  26.2s\n",
      "[CV] warm_start=True, solver=adam, nesterovs_momentum=True, momentum=0.8, max_iter=1000, learning_rate_init=0.5, learning_rate=adaptive, hidden_layer_sizes=(9, 9, 9), early_stopping=False, activation=relu \n",
      "[CV]  warm_start=True, solver=adam, nesterovs_momentum=True, momentum=0.8, max_iter=1000, learning_rate_init=0.5, learning_rate=adaptive, hidden_layer_sizes=(9, 9, 9), early_stopping=False, activation=relu, score=-0.8158002669145915, total=  32.7s\n",
      "[CV] warm_start=True, solver=adam, nesterovs_momentum=True, momentum=0.8, max_iter=1000, learning_rate_init=0.5, learning_rate=adaptive, hidden_layer_sizes=(9, 9, 9), early_stopping=False, activation=relu \n",
      "[CV]  warm_start=True, solver=adam, nesterovs_momentum=True, momentum=0.8, max_iter=1000, learning_rate_init=0.5, learning_rate=adaptive, hidden_layer_sizes=(9, 9, 9), early_stopping=False, activation=relu, score=-0.8204797173099394, total=  35.8s\n",
      "[CV] warm_start=True, solver=adam, nesterovs_momentum=True, momentum=0.8, max_iter=1000, learning_rate_init=0.5, learning_rate=adaptive, hidden_layer_sizes=(9, 9, 9), early_stopping=False, activation=relu \n",
      "[CV]  warm_start=True, solver=adam, nesterovs_momentum=True, momentum=0.8, max_iter=1000, learning_rate_init=0.5, learning_rate=adaptive, hidden_layer_sizes=(9, 9, 9), early_stopping=False, activation=relu, score=-0.827276678044863, total= 1.1min\n",
      "[CV] warm_start=True, solver=adam, nesterovs_momentum=True, momentum=0.6, max_iter=1000, learning_rate_init=0.01, learning_rate=adaptive, hidden_layer_sizes=(4, 4, 4), early_stopping=False, activation=relu \n"
     ]
    }
   ],
   "source": [
    "search_cv.fit(X, y)"
   ]
  },
  {
   "cell_type": "code",
   "execution_count": null,
   "metadata": {
    "ExecuteTime": {
     "start_time": "2019-07-08T06:43:17.267Z"
    }
   },
   "outputs": [],
   "source": [
    "# ver Top5 modelos\n",
    "results = pd.DataFrame(search_cv.cv_results_).sort_values(by='mean_test_score', ascending=False)\n",
    "results.head()"
   ]
  },
  {
   "cell_type": "code",
   "execution_count": null,
   "metadata": {
    "ExecuteTime": {
     "start_time": "2019-07-08T06:43:17.820Z"
    }
   },
   "outputs": [],
   "source": [
    "# mejor modelo\n",
    "search_cv.best_estimator_"
   ]
  },
  {
   "cell_type": "code",
   "execution_count": null,
   "metadata": {},
   "outputs": [],
   "source": [
    "# probar en data de test\n",
    "df_test = pd.read_csv('test.csv')\n",
    "df_test.head()"
   ]
  },
  {
   "cell_type": "code",
   "execution_count": null,
   "metadata": {},
   "outputs": [],
   "source": [
    "# preprocesar la data de test\n",
    "df_test['distance'] = df_test[[plg, plt, dlg, dlt]].apply(euclidian_distance, axis=1)\n",
    "df_test[pdt] = df_test[pdt].apply(lambda x : datetime.strptime(x, \"%Y-%m-%d %H:%M:%S\"))\n",
    "df_test['month'] = df_test[pdt].apply(lambda x : x.month)\n",
    "df_test['weekDay'] = df_test[pdt].apply(lambda x : x.weekday())\n",
    "df_test['dayMonth'] = df_test[pdt].apply(lambda x : x.day)\n",
    "df_test['pickupTimeMinutes'] = df_test[pdt].apply(lambda x : x.hour * 60.0 + x.minute)\n",
    "df_test.drop(['pickup_datetime', dlg, dlt, 'store_and_fwd_flag'], inplace=True, axis=1)\n",
    "df_test = df_test[['id', plg, plt, 'distance', 'month', 'dayMonth', 'weekDay', 'pickupTimeMinutes', 'passenger_count', 'vendor_id']]\n",
    "df_test.head()"
   ]
  },
  {
   "cell_type": "code",
   "execution_count": null,
   "metadata": {},
   "outputs": [],
   "source": [
    "# split test data\n",
    "X_id, X_test = df_test.iloc[:, 0], df_test.iloc[:, 1:]\n",
    "X_id.shape, X_test.shape"
   ]
  },
  {
   "cell_type": "code",
   "execution_count": null,
   "metadata": {},
   "outputs": [],
   "source": [
    "# normalizar el input\n",
    "scaler = preprocessing.StandardScaler().fit(X_test)\n",
    "X_test = scaler.transform(X_test)"
   ]
  },
  {
   "cell_type": "code",
   "execution_count": null,
   "metadata": {},
   "outputs": [],
   "source": [
    "# predecir\n",
    "y_pred = search_cv.best_estimator_.predict(X_test)\n",
    "df_output = pd.DataFrame({'id' : X_id, 'trip_duration': y_pred})\n",
    "df_output"
   ]
  }
 ],
 "metadata": {
  "kernelspec": {
   "display_name": "Python 3",
   "language": "python",
   "name": "python3"
  },
  "language_info": {
   "codemirror_mode": {
    "name": "ipython",
    "version": 3
   },
   "file_extension": ".py",
   "mimetype": "text/x-python",
   "name": "python",
   "nbconvert_exporter": "python",
   "pygments_lexer": "ipython3",
   "version": "3.6.7"
  },
  "toc": {
   "base_numbering": 1,
   "nav_menu": {},
   "number_sections": true,
   "sideBar": true,
   "skip_h1_title": false,
   "title_cell": "Table of Contents",
   "title_sidebar": "Contents",
   "toc_cell": false,
   "toc_position": {},
   "toc_section_display": true,
   "toc_window_display": false
  }
 },
 "nbformat": 4,
 "nbformat_minor": 2
}
